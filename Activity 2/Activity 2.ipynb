{
 "cells": [
  {
   "cell_type": "markdown",
   "metadata": {},
   "source": [
    "# __Activity 2__\n",
    "## Rachel Nana, October 2018"
   ]
  },
  {
   "cell_type": "markdown",
   "metadata": {},
   "source": [
    "__Importing Packages__"
   ]
  },
  {
   "cell_type": "code",
   "execution_count": 1,
   "metadata": {
    "collapsed": true
   },
   "outputs": [],
   "source": [
    "import pandas as pd\n",
    "import sklearn\n",
    "import numpy as np"
   ]
  },
  {
   "cell_type": "markdown",
   "metadata": {},
   "source": [
    "__Importing Telco Data__"
   ]
  },
  {
   "cell_type": "code",
   "execution_count": 2,
   "metadata": {
    "collapsed": true
   },
   "outputs": [],
   "source": [
    "telco = pd.read_csv('WA_Fn-UseC_-Telco-Customer-Churn.csv');"
   ]
  },
  {
   "cell_type": "markdown",
   "metadata": {},
   "source": [
    "__Data Prep__"
   ]
  },
  {
   "cell_type": "markdown",
   "metadata": {},
   "source": [
    "producing indicators"
   ]
  },
  {
   "cell_type": "code",
   "execution_count": 3,
   "metadata": {
    "collapsed": true
   },
   "outputs": [],
   "source": [
    "Male_ind = telco['gender'].eq('Male').mul(1)\n",
    "Partner_ind = telco['Partner'].eq('Yes').mul(1)\n",
    "Dependents_ind = telco['Dependents'].eq('Yes').mul(1)\n",
    "PhoneService_ind = telco['PhoneService'].eq('Yes').mul(1)\n",
    "MultipleLines_ind = telco['MultipleLines'].eq('Yes').mul(1)\n",
    "FiberOptic_ind = telco.rename(columns={'InternetService':'FiberOptic'})['FiberOptic'].eq('Fiber optic').mul(1)\n",
    "DSL_ind = telco.rename(columns={'InternetService':'DSL'})['DSL'].eq('DSL').mul(1)\n",
    "OnlineSecurity_ind = telco['OnlineSecurity'].eq('Yes').mul(1)\n",
    "OnlineBackup_ind = telco['OnlineBackup'].eq('Yes').mul(1)\n",
    "DeviceProtection_ind = telco['DeviceProtection'].eq('Yes').mul(1)\n",
    "TechSupport_ind = telco['TechSupport'].eq('Yes').mul(1)\n",
    "StreamingTV_ind = telco['StreamingTV'].eq('Yes').mul(1)\n",
    "StreamingMovies_ind = telco['StreamingMovies'].eq('Yes').mul(1)\n",
    "Contract_dummies=pd.get_dummies(telco['Contract'], drop_first=True)\n",
    "PaperlessBilling_ind = telco['PaperlessBilling'].eq('Yes').mul(1)\n",
    "PaymentMethod_dummies=pd.get_dummies(telco['PaymentMethod'], drop_first=True)\n",
    "Churn_ind = telco['Churn'].eq('Yes').mul(1)"
   ]
  },
  {
   "cell_type": "markdown",
   "metadata": {},
   "source": [
    "features"
   ]
  },
  {
   "cell_type": "code",
   "execution_count": 4,
   "metadata": {},
   "outputs": [
    {
     "name": "stdout",
     "output_type": "stream",
     "text": [
      "   gender  SeniorCitizen  Partner  Dependents  tenure  PhoneService  \\\n",
      "0       0              0        1           0       1             0   \n",
      "1       1              0        0           0      34             1   \n",
      "2       1              0        0           0       2             1   \n",
      "3       1              0        0           0      45             0   \n",
      "4       0              0        0           0       2             1   \n",
      "\n",
      "   MultipleLines  FiberOptic  DSL  OnlineSecurity      ...       StreamingTV  \\\n",
      "0              0           0    1               0      ...                 0   \n",
      "1              0           0    1               1      ...                 0   \n",
      "2              0           0    1               1      ...                 0   \n",
      "3              0           0    1               1      ...                 0   \n",
      "4              0           1    0               0      ...                 0   \n",
      "\n",
      "   StreamingMovies  One year  Two year  PaperlessBilling  \\\n",
      "0                0         0         0                 1   \n",
      "1                0         1         0                 0   \n",
      "2                0         0         0                 1   \n",
      "3                0         1         0                 0   \n",
      "4                0         0         0                 1   \n",
      "\n",
      "   Credit card (automatic)  Electronic check  Mailed check  MonthlyCharges  \\\n",
      "0                        0                 1             0           29.85   \n",
      "1                        0                 0             1           56.95   \n",
      "2                        0                 0             1           53.85   \n",
      "3                        0                 0             0           42.30   \n",
      "4                        0                 1             0           70.70   \n",
      "\n",
      "   TotalCharges  \n",
      "0         29.85  \n",
      "1        1889.5  \n",
      "2        108.15  \n",
      "3       1840.75  \n",
      "4        151.65  \n",
      "\n",
      "[5 rows x 23 columns]\n",
      "(7043, 23)\n"
     ]
    }
   ],
   "source": [
    "X = pd.concat([Male_ind, telco['SeniorCitizen'], Partner_ind, Dependents_ind, telco['tenure'], PhoneService_ind, MultipleLines_ind, FiberOptic_ind, DSL_ind, OnlineSecurity_ind, OnlineBackup_ind, DeviceProtection_ind, TechSupport_ind, StreamingTV_ind, StreamingMovies_ind, Contract_dummies, PaperlessBilling_ind, PaymentMethod_dummies, telco['MonthlyCharges'], telco['TotalCharges']], axis=1)\n",
    "print(X[:5])\n",
    "print(X.shape)"
   ]
  },
  {
   "cell_type": "markdown",
   "metadata": {},
   "source": [
    "encoding"
   ]
  },
  {
   "cell_type": "code",
   "execution_count": 5,
   "metadata": {
    "collapsed": true
   },
   "outputs": [],
   "source": [
    "from sklearn import preprocessing\n",
    "for column in X.columns:\n",
    "    if X[column].dtype == type(object):\n",
    "        le = preprocessing.LabelEncoder()\n",
    "        X[column] = le.fit_transform(X[column])"
   ]
  },
  {
   "cell_type": "markdown",
   "metadata": {},
   "source": [
    "dependent variable"
   ]
  },
  {
   "cell_type": "code",
   "execution_count": 6,
   "metadata": {},
   "outputs": [
    {
     "name": "stdout",
     "output_type": "stream",
     "text": [
      "0    0\n",
      "1    0\n",
      "2    1\n",
      "3    0\n",
      "4    1\n",
      "Name: Churn, dtype: int32\n",
      "(7043,)\n"
     ]
    }
   ],
   "source": [
    "y = Churn_ind\n",
    "print(y[:5])\n",
    "print(y.shape)"
   ]
  },
  {
   "cell_type": "markdown",
   "metadata": {},
   "source": [
    "split the data"
   ]
  },
  {
   "cell_type": "code",
   "execution_count": 7,
   "metadata": {
    "collapsed": true
   },
   "outputs": [],
   "source": [
    "from sklearn.model_selection import train_test_split\n",
    "X_train, X_test, y_train, y_test = train_test_split(X, y, test_size=0.20, random_state=42)"
   ]
  },
  {
   "cell_type": "markdown",
   "metadata": {},
   "source": [
    "feature scaling"
   ]
  },
  {
   "cell_type": "code",
   "execution_count": 8,
   "metadata": {
    "collapsed": true
   },
   "outputs": [],
   "source": [
    "from sklearn.preprocessing import StandardScaler\n",
    "sc = StandardScaler()\n",
    "X_train = sc.fit_transform(X_train)\n",
    "X_test = sc.transform(X_test)"
   ]
  },
  {
   "cell_type": "markdown",
   "metadata": {},
   "source": [
    "## Hyperparameter Tuning"
   ]
  },
  {
   "cell_type": "markdown",
   "metadata": {},
   "source": [
    "__Part 1: Base Model__"
   ]
  },
  {
   "cell_type": "code",
   "execution_count": 9,
   "metadata": {
    "collapsed": true
   },
   "outputs": [],
   "source": [
    "from sklearn.tree import DecisionTreeClassifier"
   ]
  },
  {
   "cell_type": "markdown",
   "metadata": {},
   "source": [
    "train model"
   ]
  },
  {
   "cell_type": "code",
   "execution_count": 10,
   "metadata": {
    "collapsed": true
   },
   "outputs": [],
   "source": [
    "tree_base = DecisionTreeClassifier()\n",
    "tree_base = tree_base.fit(X_train, y_train);"
   ]
  },
  {
   "cell_type": "markdown",
   "metadata": {
    "collapsed": true
   },
   "source": [
    "cross validation scores"
   ]
  },
  {
   "cell_type": "code",
   "execution_count": 11,
   "metadata": {},
   "outputs": [
    {
     "name": "stdout",
     "output_type": "stream",
     "text": [
      "0.646589834109\n"
     ]
    }
   ],
   "source": [
    "from sklearn.model_selection import cross_val_score\n",
    "cross_val_roc_base = cross_val_score(tree_base, X_train, y_train, cv=10, scoring='roc_auc')\n",
    "roc_score = np.mean(cross_val_roc_base)\n",
    "print(roc_score)"
   ]
  },
  {
   "cell_type": "markdown",
   "metadata": {},
   "source": [
    "__Part 2: \"Naive\" Sweeps__"
   ]
  },
  {
   "cell_type": "markdown",
   "metadata": {},
   "source": [
    "Testing criterion \"gini\" vs \"entropy\":"
   ]
  },
  {
   "cell_type": "code",
   "execution_count": 12,
   "metadata": {},
   "outputs": [
    {
     "name": "stdout",
     "output_type": "stream",
     "text": [
      "0.646034979767\n"
     ]
    }
   ],
   "source": [
    "clf = DecisionTreeClassifier(criterion=\"gini\")\n",
    "clf.fit(X_train, y_train)\n",
    "cross_val_roc = cross_val_score(clf, X_train, y_train, cv=10, scoring='roc_auc')\n",
    "roc_score = np.mean(cross_val_roc)\n",
    "print(roc_score)"
   ]
  },
  {
   "cell_type": "code",
   "execution_count": 13,
   "metadata": {},
   "outputs": [
    {
     "name": "stdout",
     "output_type": "stream",
     "text": [
      "0.662961253558\n"
     ]
    }
   ],
   "source": [
    "clf = DecisionTreeClassifier(criterion=\"entropy\")\n",
    "clf.fit(X_train, y_train)\n",
    "cross_val_roc = cross_val_score(clf, X_train, y_train, cv=10, scoring='roc_auc')\n",
    "roc_score = np.mean(cross_val_roc)\n",
    "print(roc_score)"
   ]
  },
  {
   "cell_type": "markdown",
   "metadata": {},
   "source": [
    "_criterion = \"entropy\" performed slightly better._"
   ]
  },
  {
   "cell_type": "markdown",
   "metadata": {},
   "source": [
    "Sweeping through max_depth param (values 1-20), where criterion=\"gini\":"
   ]
  },
  {
   "cell_type": "code",
   "execution_count": 14,
   "metadata": {},
   "outputs": [
    {
     "name": "stdout",
     "output_type": "stream",
     "text": [
      "{1: 0.66856726721655779, 2: 0.75687267504668454, 3: 0.79715024113767141, 4: 0.8147684015275154, 5: 0.81498207146731327, 6: 0.80826620441514874, 7: 0.79906004117235463, 8: 0.77793135901087962, 9: 0.75221743785738582, 10: 0.72204728239509852, 11: 0.71298948622272129, 12: 0.69781654112393066, 13: 0.68570826265658436, 14: 0.67729686420934132, 15: 0.66684414441940409, 16: 0.65560966486601402, 17: 0.65051047285038077, 18: 0.65787285567194864, 19: 0.64860972233114689}\n"
     ]
    }
   ],
   "source": [
    "aucs = dict()\n",
    "\n",
    "for i in range(1,20):\n",
    "    clf = DecisionTreeClassifier(criterion=\"gini\", max_depth=i)\n",
    "    clf = clf.fit(X_train, y_train)\n",
    "    cross_val_roc = cross_val_score(clf, X_train, y_train, cv=10, scoring='roc_auc')\n",
    "    roc_score = np.mean(cross_val_roc)\n",
    "    aucs[i] = roc_score\n",
    "    \n",
    "print(aucs)"
   ]
  },
  {
   "cell_type": "markdown",
   "metadata": {},
   "source": [
    "_When criterion = \"gini\", max_\\__depth = 5 performed best._"
   ]
  },
  {
   "cell_type": "markdown",
   "metadata": {},
   "source": [
    "Sweeping through max_depth param (values 1-20), where criterion=\"entropy\":"
   ]
  },
  {
   "cell_type": "code",
   "execution_count": 15,
   "metadata": {},
   "outputs": [
    {
     "name": "stdout",
     "output_type": "stream",
     "text": [
      "{1: 0.64450094342518416, 2: 0.73942328866622975, 3: 0.79355063096899126, 4: 0.82166284787830546, 5: 0.8269580181353785, 6: 0.82732510400443271, 7: 0.81370763790644052, 8: 0.79976727249204527, 9: 0.775768810299301, 10: 0.75991463702355522, 11: 0.74348809958854079, 12: 0.7358157066888551, 13: 0.71764962949774247, 14: 0.70545897618852671, 15: 0.69501346237186501, 16: 0.68862406312665225, 17: 0.67670826857057342, 18: 0.67473812066039796, 19: 0.67389621803537958}\n"
     ]
    }
   ],
   "source": [
    "aucs = dict()\n",
    "\n",
    "for i in range(1,20):\n",
    "    clf = DecisionTreeClassifier(criterion=\"entropy\", max_depth=i)\n",
    "    clf = clf.fit(X_train, y_train)\n",
    "    cross_val_roc = cross_val_score(clf, X_train, y_train, cv=10, scoring='roc_auc')\n",
    "    roc_score = np.mean(cross_val_roc)\n",
    "    aucs[i] = roc_score\n",
    "    \n",
    "print(aucs)"
   ]
  },
  {
   "cell_type": "markdown",
   "metadata": {},
   "source": [
    "_When criterion = \"entropy\", max_\\__depth = 6 performed best._"
   ]
  },
  {
   "cell_type": "markdown",
   "metadata": {},
   "source": [
    "Sweeping through min_samples_split (values 2-20), where criterion=\"entropy\" and max_depth = 6:"
   ]
  },
  {
   "cell_type": "code",
   "execution_count": 16,
   "metadata": {},
   "outputs": [
    {
     "name": "stdout",
     "output_type": "stream",
     "text": [
      "{2: 0.82775509989316354, 3: 0.82810241617332614, 4: 0.82767613305292653, 5: 0.82825214505748712, 6: 0.828229244273054, 7: 0.82796230694194772, 8: 0.82791611856941016, 9: 0.82777323234071731, 10: 0.82773441637052891, 11: 0.82798966518631156, 12: 0.82826375907224903, 13: 0.82828430697874, 14: 0.82825180620684657, 15: 0.82803880839452548, 16: 0.82748984806203152, 17: 0.82789300940845012, 18: 0.82806117830684978, 19: 0.82815487139860644}\n"
     ]
    }
   ],
   "source": [
    "aucs = dict()\n",
    "\n",
    "for i in range(2,20):\n",
    "    clf = DecisionTreeClassifier(criterion=\"entropy\", max_depth=6, min_samples_split=i)\n",
    "    clf = clf.fit(X_train, y_train)\n",
    "    cross_val_roc = cross_val_score(clf, X_train, y_train, cv=10, scoring='roc_auc')\n",
    "    roc_score = np.mean(cross_val_roc)\n",
    "    aucs[i] = roc_score\n",
    "    \n",
    "print(aucs)"
   ]
  },
  {
   "cell_type": "markdown",
   "metadata": {},
   "source": [
    "_When criterion = \"entropy\" and max_\\__depth = 6, min_\\__samples_\\__split = 13 performed best._"
   ]
  },
  {
   "cell_type": "markdown",
   "metadata": {},
   "source": [
    "__Part 3: RandomizedSearchCV__"
   ]
  },
  {
   "cell_type": "code",
   "execution_count": 17,
   "metadata": {
    "collapsed": true
   },
   "outputs": [],
   "source": [
    "from scipy.stats import randint\n",
    "from sklearn.model_selection import RandomizedSearchCV"
   ]
  },
  {
   "cell_type": "markdown",
   "metadata": {},
   "source": [
    "parameter distribution from which the model will sample"
   ]
  },
  {
   "cell_type": "code",
   "execution_count": 21,
   "metadata": {
    "collapsed": true
   },
   "outputs": [],
   "source": [
    "param_dist_r = {\"criterion\": [\"gini\", \"entropy\"], \n",
    "              \"max_depth\": [2, 3, 4, 5, 6, 7, 8, 9, 10, 11, 12, 13, 14, 15, 16, 17, 18, 19, 20, None], \n",
    "              \"max_features\": [2, 3, 4, 5, 6, 7, 8, 9, 10, 11, 12, 13, 14, 15, 16, 17, 18, 19, 20, None], \n",
    "              \"max_leaf_nodes\": [2, 3, 4, 5, 6, 7, 8, 9, 10, 11, 12, 13, 14, 15, 16, 17, 18, 19, 20, None], \n",
    "              \"min_samples_split\": [2, 3, 4, 5, 6, 7, 8, 9, 10, 11, 12, 13, 14, 15, 16, 17, 18, 19, 20], \n",
    "              \"min_samples_leaf\": [1, 2, 3, 4, 5, 6, 7, 8, 9, 10, 11, 12, 13, 14, 15, 16, 17, 18, 19, 20], \n",
    "              \"presort\": [\"True\", \"False\"], \n",
    "              \"splitter\": [\"best\", \"random\"]}"
   ]
  },
  {
   "cell_type": "markdown",
   "metadata": {},
   "source": [
    "train model"
   ]
  },
  {
   "cell_type": "code",
   "execution_count": 22,
   "metadata": {
    "collapsed": true
   },
   "outputs": [],
   "source": [
    "tree = DecisionTreeClassifier()\n",
    "tree_rand_cv = RandomizedSearchCV(tree, param_dist_r, cv=10)\n",
    "tree_rand_cv.fit(X_train,y_train);"
   ]
  },
  {
   "cell_type": "markdown",
   "metadata": {},
   "source": [
    "print results"
   ]
  },
  {
   "cell_type": "code",
   "execution_count": 23,
   "metadata": {},
   "outputs": [
    {
     "name": "stdout",
     "output_type": "stream",
     "text": [
      "Tuned Decision Tree Parameters (Random Search): {'splitter': 'best', 'presort': 'False', 'min_samples_split': 16, 'min_samples_leaf': 20, 'max_leaf_nodes': 18, 'max_features': None, 'max_depth': 13, 'criterion': 'entropy'}\n"
     ]
    }
   ],
   "source": [
    "print(\"Tuned Decision Tree Parameters (Random Search): {}\".format(tree_rand_cv.best_params_))"
   ]
  },
  {
   "cell_type": "markdown",
   "metadata": {
    "collapsed": true
   },
   "source": [
    "cross validation scores"
   ]
  },
  {
   "cell_type": "code",
   "execution_count": 24,
   "metadata": {},
   "outputs": [
    {
     "name": "stdout",
     "output_type": "stream",
     "text": [
      "0.806704241654\n"
     ]
    }
   ],
   "source": [
    "cross_val_roc = cross_val_score(tree_rand_cv, X_train, y_train, cv=10, scoring='roc_auc')\n",
    "roc_score = np.mean(cross_val_roc)\n",
    "print(roc_score)"
   ]
  },
  {
   "cell_type": "markdown",
   "metadata": {},
   "source": [
    "__Part 4: GridSearchCV__"
   ]
  },
  {
   "cell_type": "code",
   "execution_count": 25,
   "metadata": {
    "collapsed": true
   },
   "outputs": [],
   "source": [
    "from sklearn.model_selection import GridSearchCV"
   ]
  },
  {
   "cell_type": "markdown",
   "metadata": {},
   "source": [
    "parameter distribution from which the model will sample"
   ]
  },
  {
   "cell_type": "code",
   "execution_count": 27,
   "metadata": {},
   "outputs": [],
   "source": [
    "param_dist_g = {\"criterion\": [\"gini\", \"entropy\"], \n",
    "              \"max_depth\": [2, 3, 4, 5, 6, 7, 8, 9, 10, None], \n",
    "              \"max_features\": [2, 3, 4, 5, 6, 7, 8, 9, 10, None], \n",
    "              \"max_leaf_nodes\": [2, 3, 4, 5, 6, 7, 8, 9, 10, None], \n",
    "              \"min_samples_split\": [2, 3, 4, 5, 6, 7, 8, 9, 10],\n",
    "              \"min_samples_leaf\": [2, 3, 4, 5, 6, 7, 8, 9, 10], \n",
    "              \"presort\": [\"True\", \"False\"], \n",
    "              \"splitter\": [\"best\", \"random\"]}"
   ]
  },
  {
   "cell_type": "markdown",
   "metadata": {},
   "source": [
    "train model"
   ]
  },
  {
   "cell_type": "code",
   "execution_count": 28,
   "metadata": {
    "collapsed": true
   },
   "outputs": [],
   "source": [
    "tree_grid_cv = GridSearchCV(tree, param_dist_g, cv=10)\n",
    "tree_grid_cv.fit(X_train,y_train);"
   ]
  },
  {
   "cell_type": "markdown",
   "metadata": {},
   "source": [
    "print results"
   ]
  },
  {
   "cell_type": "code",
   "execution_count": 29,
   "metadata": {},
   "outputs": [
    {
     "name": "stdout",
     "output_type": "stream",
     "text": [
      "Tuned Decision Tree Parameters (Grid Search): {'criterion': 'gini', 'max_depth': 6, 'max_features': None, 'max_leaf_nodes': None, 'min_samples_leaf': 5, 'min_samples_split': 7, 'presort': 'False', 'splitter': 'random'}\n"
     ]
    }
   ],
   "source": [
    "print(\"Tuned Decision Tree Parameters (Grid Search): {}\".format(tree_grid_cv.best_params_))"
   ]
  },
  {
   "cell_type": "markdown",
   "metadata": {},
   "source": [
    "## Tree Visualization"
   ]
  },
  {
   "cell_type": "markdown",
   "metadata": {
    "collapsed": true
   },
   "source": [
    "__Part 1: Base Model__"
   ]
  },
  {
   "cell_type": "markdown",
   "metadata": {},
   "source": [
    "Visualize"
   ]
  },
  {
   "cell_type": "code",
   "execution_count": 35,
   "metadata": {},
   "outputs": [
    {
     "name": "stdout",
     "output_type": "stream",
     "text": [
      "dot: graph is too large for cairo-renderer bitmaps. Scaling by 0.628973 to fit\r\n",
      "\n"
     ]
    },
    {
     "data": {
      "text/plain": [
       "True"
      ]
     },
     "execution_count": 35,
     "metadata": {},
     "output_type": "execute_result"
    }
   ],
   "source": [
    "from sklearn.externals.six import StringIO  \n",
    "from IPython.display import Image  \n",
    "from sklearn.tree import export_graphviz\n",
    "import pydotplus\n",
    "\n",
    "dot_data1 = StringIO()\n",
    "export_graphviz(tree_base, out_file=dot_data1, filled=True, rounded=True, special_characters=True)\n",
    "graph = pydotplus.graph_from_dot_data(dot_data1.getvalue())  \n",
    "Image(graph.create_png())\n",
    "\n",
    "graph.write_pdf(\"decision_tree_base_model.pdf\")"
   ]
  },
  {
   "cell_type": "markdown",
   "metadata": {
    "collapsed": true
   },
   "source": [
    "__Part 2: \"Naive\" Sweeps__"
   ]
  },
  {
   "cell_type": "markdown",
   "metadata": {},
   "source": [
    "Train Model"
   ]
  },
  {
   "cell_type": "code",
   "execution_count": 37,
   "metadata": {
    "collapsed": true
   },
   "outputs": [],
   "source": [
    "tree_naive = DecisionTreeClassifier(criterion=\"entropy\", max_depth=6, min_samples_split=13)\n",
    "tree_naive = tree_naive.fit(X_train, y_train)"
   ]
  },
  {
   "cell_type": "markdown",
   "metadata": {},
   "source": [
    "Visualize"
   ]
  },
  {
   "cell_type": "code",
   "execution_count": 38,
   "metadata": {},
   "outputs": [
    {
     "data": {
      "text/plain": [
       "True"
      ]
     },
     "execution_count": 38,
     "metadata": {},
     "output_type": "execute_result"
    }
   ],
   "source": [
    "dot_data2 = StringIO()\n",
    "export_graphviz(tree_naive, out_file=dot_data2, filled=True, rounded=True, special_characters=True)\n",
    "graph = pydotplus.graph_from_dot_data(dot_data2.getvalue())  \n",
    "Image(graph.create_png())\n",
    "\n",
    "graph.write_pdf(\"decision_tree_naive_sweeps.pdf\")"
   ]
  },
  {
   "cell_type": "markdown",
   "metadata": {
    "collapsed": true
   },
   "source": [
    "__Part 3: Random Search__"
   ]
  },
  {
   "cell_type": "markdown",
   "metadata": {},
   "source": [
    "Train Model"
   ]
  },
  {
   "cell_type": "code",
   "execution_count": 41,
   "metadata": {},
   "outputs": [],
   "source": [
    "tree_rand = DecisionTreeClassifier(criterion=\"entropy\", max_depth=13, max_features=None, max_leaf_nodes=18, min_samples_leaf=20, \n",
    "                                   min_samples_split=16, presort=\"False\", splitter=\"best\")\n",
    "tree_rand = tree_rand.fit(X_train, y_train)"
   ]
  },
  {
   "cell_type": "markdown",
   "metadata": {},
   "source": [
    "Visualize"
   ]
  },
  {
   "cell_type": "code",
   "execution_count": 42,
   "metadata": {},
   "outputs": [
    {
     "data": {
      "text/plain": [
       "True"
      ]
     },
     "execution_count": 42,
     "metadata": {},
     "output_type": "execute_result"
    }
   ],
   "source": [
    "dot_data3 = StringIO()\n",
    "export_graphviz(tree_rand, out_file=dot_data3, filled=True, rounded=True, special_characters=True)\n",
    "graph = pydotplus.graph_from_dot_data(dot_data3.getvalue())  \n",
    "Image(graph.create_png())\n",
    "\n",
    "graph.write_pdf(\"decision_tree_random_search.pdf\")"
   ]
  },
  {
   "cell_type": "markdown",
   "metadata": {
    "collapsed": true
   },
   "source": [
    "__Part 4: Grid Search__"
   ]
  },
  {
   "cell_type": "markdown",
   "metadata": {},
   "source": [
    "Train Model"
   ]
  },
  {
   "cell_type": "code",
   "execution_count": 43,
   "metadata": {
    "collapsed": true
   },
   "outputs": [],
   "source": [
    "tree_grid = DecisionTreeClassifier(criterion=\"gini\", max_depth=6, max_features=None, max_leaf_nodes=None, min_samples_leaf=5, \n",
    "                                   min_samples_split=7, presort=\"False\", splitter=\"random\")\n",
    "tree_grid = tree_grid.fit(X_train, y_train)"
   ]
  },
  {
   "cell_type": "markdown",
   "metadata": {},
   "source": [
    "Visualize"
   ]
  },
  {
   "cell_type": "code",
   "execution_count": 44,
   "metadata": {},
   "outputs": [
    {
     "data": {
      "text/plain": [
       "True"
      ]
     },
     "execution_count": 44,
     "metadata": {},
     "output_type": "execute_result"
    }
   ],
   "source": [
    "dot_data4 = StringIO()\n",
    "export_graphviz(tree_grid, out_file=dot_data4, filled=True, rounded=True, special_characters=True)\n",
    "graph = pydotplus.graph_from_dot_data(dot_data4.getvalue())  \n",
    "Image(graph.create_png())\n",
    "\n",
    "graph.write_pdf(\"decision_tree_grid_search.pdf\")"
   ]
  },
  {
   "cell_type": "markdown",
   "metadata": {},
   "source": [
    "## ROC Curves"
   ]
  },
  {
   "cell_type": "markdown",
   "metadata": {
    "collapsed": true
   },
   "source": [
    "__Part 1: Base Model__"
   ]
  },
  {
   "cell_type": "markdown",
   "metadata": {},
   "source": [
    "Predictions"
   ]
  },
  {
   "cell_type": "code",
   "execution_count": 94,
   "metadata": {},
   "outputs": [
    {
     "name": "stdout",
     "output_type": "stream",
     "text": [
      "0.639439947416\n"
     ]
    }
   ],
   "source": [
    "from sklearn.metrics import roc_curve, roc_auc_score\n",
    "from matplotlib import pyplot as plt\n",
    "\n",
    "predictions1 = tree_base.predict_proba(X_test)\n",
    "roc_score_base = roc_auc_score(y_test, predictions1[:,1])\n",
    "print(roc_score_base)"
   ]
  },
  {
   "cell_type": "markdown",
   "metadata": {},
   "source": [
    "ROC curve"
   ]
  },
  {
   "cell_type": "code",
   "execution_count": 95,
   "metadata": {},
   "outputs": [
    {
     "data": {
      "image/png": "[encoded data removed]",
      "text/plain": [
       "<matplotlib.figure.Figure at 0x22f874ec668>"
      ]
     },
     "metadata": {},
     "output_type": "display_data"
    }
   ],
   "source": [
    "fpr1, tpr1, _ = roc_curve(y_test, predictions1[:,1])\n",
    "plt.plot(fpr1, tpr1)\n",
    "plt.xlabel('FPR')\n",
    "plt.ylabel('TPR')\n",
    "plt.title('ROC curve (Base Model)')\n",
    "plt.show()"
   ]
  },
  {
   "cell_type": "markdown",
   "metadata": {
    "collapsed": true
   },
   "source": [
    "__Part 2: \"Naive\" Sweeps__"
   ]
  },
  {
   "cell_type": "markdown",
   "metadata": {},
   "source": [
    "Predictions"
   ]
  },
  {
   "cell_type": "code",
   "execution_count": 96,
   "metadata": {},
   "outputs": [
    {
     "name": "stdout",
     "output_type": "stream",
     "text": [
      "0.842136180608\n"
     ]
    }
   ],
   "source": [
    "predictions2 = tree_naive.predict_proba(X_test)\n",
    "roc_score_naive = roc_auc_score(y_test, predictions2[:,1])\n",
    "print(roc_score_naive)"
   ]
  },
  {
   "cell_type": "markdown",
   "metadata": {},
   "source": [
    "ROC curve"
   ]
  },
  {
   "cell_type": "code",
   "execution_count": 97,
   "metadata": {},
   "outputs": [
    {
     "data": {
      "image/png": "[encoded data removed]",
      "text/plain": [
       "<matplotlib.figure.Figure at 0x22f04846128>"
      ]
     },
     "metadata": {},
     "output_type": "display_data"
    }
   ],
   "source": [
    "fpr2, tpr2, _ = roc_curve(y_test, predictions2[:,1])\n",
    "plt.plot(fpr2, tpr2)\n",
    "plt.xlabel('FPR')\n",
    "plt.ylabel('TPR')\n",
    "plt.title('ROC curve (\"Naive\" Search)')\n",
    "plt.show()"
   ]
  },
  {
   "cell_type": "markdown",
   "metadata": {
    "collapsed": true
   },
   "source": [
    "__Part 3: Random Search__"
   ]
  },
  {
   "cell_type": "markdown",
   "metadata": {},
   "source": [
    "Predictions"
   ]
  },
  {
   "cell_type": "code",
   "execution_count": 98,
   "metadata": {},
   "outputs": [
    {
     "name": "stdout",
     "output_type": "stream",
     "text": [
      "0.842397548832\n"
     ]
    }
   ],
   "source": [
    "predictions3 = tree_rand.predict_proba(X_test)\n",
    "roc_score_rand = roc_auc_score(y_test, predictions3[:,1])\n",
    "print(roc_score_rand)"
   ]
  },
  {
   "cell_type": "markdown",
   "metadata": {},
   "source": [
    "ROC curve"
   ]
  },
  {
   "cell_type": "code",
   "execution_count": 99,
   "metadata": {},
   "outputs": [
    {
     "data": {
      "image/png": "[encoded data removed]",
      "text/plain": [
       "<matplotlib.figure.Figure at 0x22f171002b0>"
      ]
     },
     "metadata": {},
     "output_type": "display_data"
    }
   ],
   "source": [
    "fpr3, tpr3, _ = roc_curve(y_test, predictions3[:,1])\n",
    "plt.plot(fpr3, tpr3)\n",
    "plt.xlabel('FPR')\n",
    "plt.ylabel('TPR')\n",
    "plt.title('ROC curve (Random Search)')\n",
    "plt.show()"
   ]
  },
  {
   "cell_type": "markdown",
   "metadata": {
    "collapsed": true
   },
   "source": [
    "__Part 4: Grid Search__"
   ]
  },
  {
   "cell_type": "markdown",
   "metadata": {},
   "source": [
    "Predictions"
   ]
  },
  {
   "cell_type": "code",
   "execution_count": 100,
   "metadata": {},
   "outputs": [
    {
     "name": "stdout",
     "output_type": "stream",
     "text": [
      "0.84561548335\n"
     ]
    }
   ],
   "source": [
    "predictions4 = tree_grid.predict_proba(X_test)\n",
    "roc_score_grid = roc_auc_score(y_test, predictions4[:,1])\n",
    "print(roc_score_grid)"
   ]
  },
  {
   "cell_type": "markdown",
   "metadata": {},
   "source": [
    "ROC curve"
   ]
  },
  {
   "cell_type": "code",
   "execution_count": 83,
   "metadata": {},
   "outputs": [
    {
     "data": {
      "image/png": "[encoded data removed]",
      "text/plain": [
       "<matplotlib.figure.Figure at 0x22f32166860>"
      ]
     },
     "metadata": {},
     "output_type": "display_data"
    }
   ],
   "source": [
    "fpr4, tpr4, _ = roc_curve(y_test, predictions4[:,1])\n",
    "plt.plot(fpr4, tpr4)\n",
    "plt.xlabel('FPR')\n",
    "plt.ylabel('TPR')\n",
    "plt.title('ROC curve (Grid Search)')\n",
    "plt.show()"
   ]
  },
  {
   "cell_type": "markdown",
   "metadata": {},
   "source": [
    "__Combined__"
   ]
  },
  {
   "cell_type": "code",
   "execution_count": 104,
   "metadata": {},
   "outputs": [
    {
     "data": {
      "image/png": "[encoded data removed]",
      "text/plain": [
       "<matplotlib.figure.Figure at 0x22f1d29c278>"
      ]
     },
     "metadata": {},
     "output_type": "display_data"
    }
   ],
   "source": [
    "plt.plot(fpr1, tpr1, color='red', label='Base Model (AUC = %0.4f)' % roc_score_base)\n",
    "plt.plot(fpr2, tpr2, color='blue', label='\"Naive\" Sweeps (AUC = %0.4f)' % roc_score_naive)\n",
    "plt.plot(fpr3, tpr3, color='green', label='Random Search (AUC = %0.4f)' % roc_score_rand)\n",
    "plt.plot(fpr4, tpr4, color='purple', label='Grid Search (AUC = %0.4f)' % roc_score_grid)\n",
    "plt.legend(loc=\"lower right\")\n",
    "plt.xlabel('FPR')\n",
    "plt.ylabel('TPR')\n",
    "plt.title('ROC curves')\n",
    "plt.show()"
   ]
  },
  {
   "cell_type": "code",
   "execution_count": null,
   "metadata": {
    "collapsed": true
   },
   "outputs": [],
   "source": []
  }
 ],
 "metadata": {
  "kernelspec": {
   "display_name": "Python 3",
   "language": "python",
   "name": "python3"
  },
  "language_info": {
   "codemirror_mode": {
    "name": "ipython",
    "version": 3
   },
   "file_extension": ".py",
   "mimetype": "text/x-python",
   "name": "python",
   "nbconvert_exporter": "python",
   "pygments_lexer": "ipython3",
   "version": "3.6.1"
  }
 },
 "nbformat": 4,
 "nbformat_minor": 2
}
