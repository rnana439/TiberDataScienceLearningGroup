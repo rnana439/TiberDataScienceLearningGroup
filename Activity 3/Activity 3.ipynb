{
 "cells": [
  {
   "cell_type": "markdown",
   "metadata": {},
   "source": [
    "# __Activity 3__\n",
    "## Rachel Nana, November 2018"
   ]
  },
  {
   "cell_type": "markdown",
   "metadata": {},
   "source": [
    "__Importing Packages__"
   ]
  },
  {
   "cell_type": "code",
   "execution_count": 1,
   "metadata": {
    "collapsed": true
   },
   "outputs": [],
   "source": [
    "import pandas as pd\n",
    "import sklearn\n",
    "import numpy as np"
   ]
  },
  {
   "cell_type": "markdown",
   "metadata": {},
   "source": [
    "__Importing Telco Data__"
   ]
  },
  {
   "cell_type": "code",
   "execution_count": 2,
   "metadata": {
    "collapsed": true
   },
   "outputs": [],
   "source": [
    "telco = pd.read_csv('WA_Fn-UseC_-Telco-Customer-Churn.csv');"
   ]
  },
  {
   "cell_type": "markdown",
   "metadata": {},
   "source": [
    "__Data Prep__"
   ]
  },
  {
   "cell_type": "markdown",
   "metadata": {},
   "source": [
    "tenure: min and max"
   ]
  },
  {
   "cell_type": "code",
   "execution_count": 3,
   "metadata": {},
   "outputs": [
    {
     "name": "stdout",
     "output_type": "stream",
     "text": [
      "0\n",
      "72\n"
     ]
    }
   ],
   "source": [
    "print(min(telco['tenure']))\n",
    "print(max(telco['tenure']))"
   ]
  },
  {
   "cell_type": "markdown",
   "metadata": {},
   "source": [
    "MonthlyCharges: min and max"
   ]
  },
  {
   "cell_type": "code",
   "execution_count": 4,
   "metadata": {},
   "outputs": [
    {
     "name": "stdout",
     "output_type": "stream",
     "text": [
      "18.25\n",
      "118.75\n"
     ]
    }
   ],
   "source": [
    "print(min(telco['MonthlyCharges']))\n",
    "print(max(telco['MonthlyCharges']))"
   ]
  },
  {
   "cell_type": "markdown",
   "metadata": {},
   "source": [
    "TotalCharges: min and max"
   ]
  },
  {
   "cell_type": "code",
   "execution_count": 5,
   "metadata": {},
   "outputs": [
    {
     "name": "stdout",
     "output_type": "stream",
     "text": [
      "0.0\n",
      "8684.8\n"
     ]
    }
   ],
   "source": [
    "print(min(telco['TotalCharges'].replace(\" \", 0).astype(float)))\n",
    "print(max(telco['TotalCharges'].replace(\" \", 0).astype(float)))"
   ]
  },
  {
   "cell_type": "markdown",
   "metadata": {},
   "source": [
    "normalizing"
   ]
  },
  {
   "cell_type": "code",
   "execution_count": 6,
   "metadata": {
    "collapsed": true
   },
   "outputs": [],
   "source": [
    "tenure_normalized = telco['tenure'].add(-36).divide(36)"
   ]
  },
  {
   "cell_type": "code",
   "execution_count": 7,
   "metadata": {},
   "outputs": [
    {
     "name": "stdout",
     "output_type": "stream",
     "text": [
      "-1.0\n",
      "1.0\n"
     ]
    }
   ],
   "source": [
    "print(min(tenure_normalized))\n",
    "print(max(tenure_normalized))"
   ]
  },
  {
   "cell_type": "code",
   "execution_count": 8,
   "metadata": {
    "collapsed": true
   },
   "outputs": [],
   "source": [
    "MonthlyCharges_normalized = telco['MonthlyCharges'].add(-68.5).divide(50.25)"
   ]
  },
  {
   "cell_type": "code",
   "execution_count": 9,
   "metadata": {},
   "outputs": [
    {
     "name": "stdout",
     "output_type": "stream",
     "text": [
      "-1.0\n",
      "1.0\n"
     ]
    }
   ],
   "source": [
    "print(min(MonthlyCharges_normalized))\n",
    "print(max(MonthlyCharges_normalized))"
   ]
  },
  {
   "cell_type": "code",
   "execution_count": 10,
   "metadata": {
    "collapsed": true
   },
   "outputs": [],
   "source": [
    "TotalCharges_normalized = telco['TotalCharges'].replace(\" \", 0).astype(float).add(-4342.4).divide(4342.4)"
   ]
  },
  {
   "cell_type": "code",
   "execution_count": 11,
   "metadata": {},
   "outputs": [
    {
     "name": "stdout",
     "output_type": "stream",
     "text": [
      "-1.0\n",
      "1.0\n"
     ]
    }
   ],
   "source": [
    "print(min(TotalCharges_normalized))\n",
    "print(max(TotalCharges_normalized))"
   ]
  },
  {
   "cell_type": "markdown",
   "metadata": {},
   "source": [
    "producing indicators"
   ]
  },
  {
   "cell_type": "code",
   "execution_count": 12,
   "metadata": {
    "collapsed": true
   },
   "outputs": [],
   "source": [
    "Male_ind = telco['gender'].eq('Male').mul(1)\n",
    "Partner_ind = telco['Partner'].eq('Yes').mul(1)\n",
    "Dependents_ind = telco['Dependents'].eq('Yes').mul(1)\n",
    "PhoneService_ind = telco['PhoneService'].eq('Yes').mul(1)\n",
    "MultipleLines_ind = telco['MultipleLines'].eq('Yes').mul(1)\n",
    "FiberOptic_ind = telco.rename(columns={'InternetService':'FiberOptic'})['FiberOptic'].eq('Fiber optic').mul(1)\n",
    "DSL_ind = telco.rename(columns={'InternetService':'DSL'})['DSL'].eq('DSL').mul(1)\n",
    "OnlineSecurity_ind = telco['OnlineSecurity'].eq('Yes').mul(1)\n",
    "OnlineBackup_ind = telco['OnlineBackup'].eq('Yes').mul(1)\n",
    "DeviceProtection_ind = telco['DeviceProtection'].eq('Yes').mul(1)\n",
    "TechSupport_ind = telco['TechSupport'].eq('Yes').mul(1)\n",
    "StreamingTV_ind = telco['StreamingTV'].eq('Yes').mul(1)\n",
    "StreamingMovies_ind = telco['StreamingMovies'].eq('Yes').mul(1)\n",
    "Contract_dummies=pd.get_dummies(telco['Contract'], drop_first=True)\n",
    "PaperlessBilling_ind = telco['PaperlessBilling'].eq('Yes').mul(1)\n",
    "PaymentMethod_dummies=pd.get_dummies(telco['PaymentMethod'], drop_first=True)\n",
    "Churn_ind = telco['Churn'].eq('Yes').mul(1)"
   ]
  },
  {
   "cell_type": "markdown",
   "metadata": {},
   "source": [
    "features"
   ]
  },
  {
   "cell_type": "code",
   "execution_count": 13,
   "metadata": {},
   "outputs": [
    {
     "name": "stdout",
     "output_type": "stream",
     "text": [
      "   gender  SeniorCitizen  Partner  Dependents    tenure  PhoneService  \\\n",
      "0       0              0        1           0 -0.972222             0   \n",
      "1       1              0        0           0 -0.055556             1   \n",
      "2       1              0        0           0 -0.944444             1   \n",
      "3       1              0        0           0  0.250000             0   \n",
      "4       0              0        0           0 -0.944444             1   \n",
      "\n",
      "   MultipleLines  FiberOptic  DSL  OnlineSecurity      ...       StreamingTV  \\\n",
      "0              0           0    1               0      ...                 0   \n",
      "1              0           0    1               1      ...                 0   \n",
      "2              0           0    1               1      ...                 0   \n",
      "3              0           0    1               1      ...                 0   \n",
      "4              0           1    0               0      ...                 0   \n",
      "\n",
      "   StreamingMovies  One year  Two year  PaperlessBilling  \\\n",
      "0                0         0         0                 1   \n",
      "1                0         1         0                 0   \n",
      "2                0         0         0                 1   \n",
      "3                0         1         0                 0   \n",
      "4                0         0         0                 1   \n",
      "\n",
      "   Credit card (automatic)  Electronic check  Mailed check  MonthlyCharges  \\\n",
      "0                        0                 1             0       -0.769154   \n",
      "1                        0                 0             1       -0.229851   \n",
      "2                        0                 0             1       -0.291542   \n",
      "3                        0                 0             0       -0.521393   \n",
      "4                        0                 1             0        0.043781   \n",
      "\n",
      "   TotalCharges  \n",
      "0     -0.993126  \n",
      "1     -0.564872  \n",
      "2     -0.975094  \n",
      "3     -0.576098  \n",
      "4     -0.965077  \n",
      "\n",
      "[5 rows x 23 columns]\n",
      "(7043, 23)\n"
     ]
    }
   ],
   "source": [
    "X = pd.concat([Male_ind, telco['SeniorCitizen'], Partner_ind, Dependents_ind, tenure_normalized, PhoneService_ind, MultipleLines_ind, FiberOptic_ind, DSL_ind, OnlineSecurity_ind, OnlineBackup_ind, DeviceProtection_ind, TechSupport_ind, StreamingTV_ind, StreamingMovies_ind, Contract_dummies, PaperlessBilling_ind, PaymentMethod_dummies, MonthlyCharges_normalized, TotalCharges_normalized], axis=1)\n",
    "print(X[:5])\n",
    "print(X.shape)"
   ]
  },
  {
   "cell_type": "markdown",
   "metadata": {},
   "source": [
    "encoding"
   ]
  },
  {
   "cell_type": "code",
   "execution_count": 14,
   "metadata": {
    "collapsed": true
   },
   "outputs": [],
   "source": [
    "from sklearn import preprocessing\n",
    "for column in X.columns:\n",
    "    if X[column].dtype == type(object):\n",
    "        le = preprocessing.LabelEncoder()\n",
    "        X[column] = le.fit_transform(X[column])"
   ]
  },
  {
   "cell_type": "markdown",
   "metadata": {},
   "source": [
    "dependent variable"
   ]
  },
  {
   "cell_type": "code",
   "execution_count": 15,
   "metadata": {},
   "outputs": [
    {
     "name": "stdout",
     "output_type": "stream",
     "text": [
      "0    0\n",
      "1    0\n",
      "2    1\n",
      "3    0\n",
      "4    1\n",
      "Name: Churn, dtype: int32\n",
      "(7043,)\n"
     ]
    }
   ],
   "source": [
    "y = Churn_ind\n",
    "print(y[:5])\n",
    "print(y.shape)"
   ]
  },
  {
   "cell_type": "markdown",
   "metadata": {},
   "source": [
    "split the data"
   ]
  },
  {
   "cell_type": "code",
   "execution_count": 16,
   "metadata": {
    "collapsed": true
   },
   "outputs": [],
   "source": [
    "from sklearn.model_selection import train_test_split\n",
    "X_train, X_test, y_train, y_test = train_test_split(X, y, test_size=0.20, random_state=42)"
   ]
  },
  {
   "cell_type": "markdown",
   "metadata": {},
   "source": [
    "## Competing Models"
   ]
  },
  {
   "cell_type": "markdown",
   "metadata": {},
   "source": [
    "__Model 1: Decision Tree__"
   ]
  },
  {
   "cell_type": "code",
   "execution_count": 17,
   "metadata": {
    "collapsed": true
   },
   "outputs": [],
   "source": [
    "from sklearn.tree import DecisionTreeClassifier\n",
    "from sklearn.model_selection import cross_val_score\n",
    "from scipy.stats import randint\n",
    "from sklearn.model_selection import RandomizedSearchCV\n",
    "from sklearn.model_selection import GridSearchCV"
   ]
  },
  {
   "cell_type": "markdown",
   "metadata": {},
   "source": [
    "parameter grid"
   ]
  },
  {
   "cell_type": "code",
   "execution_count": 18,
   "metadata": {
    "collapsed": true
   },
   "outputs": [],
   "source": [
    "tree_param_dist = {\"criterion\": [\"gini\", \"entropy\"], \n",
    "              \"max_depth\": [2, 3, 4, 5, 6, 7, 8, 9, 10, 11, 12, 13, 14, 15, 16, 17, 18, 19, 20, None], \n",
    "              \"max_features\": [2, 3, 4, 5, 6, 7, 8, 9, 10, 11, 12, 13, 14, 15, 16, 17, 18, 19, 20, None], \n",
    "              \"min_samples_split\": [2, 3, 4, 5, 6, 7, 8, 9, 10, 11, 12, 13, 14, 15, 16, 17, 18, 19, 20]}"
   ]
  },
  {
   "cell_type": "markdown",
   "metadata": {},
   "source": [
    "grid search"
   ]
  },
  {
   "cell_type": "code",
   "execution_count": 19,
   "metadata": {},
   "outputs": [
    {
     "name": "stdout",
     "output_type": "stream",
     "text": [
      "Wall time: 36min\n"
     ]
    }
   ],
   "source": [
    "%%time\n",
    "tree = DecisionTreeClassifier()\n",
    "tree_grid_cv = GridSearchCV(tree, tree_param_dist, cv=10)\n",
    "tree_grid_cv.fit(X_train,y_train);"
   ]
  },
  {
   "cell_type": "markdown",
   "metadata": {},
   "source": [
    "optimal parameters"
   ]
  },
  {
   "cell_type": "code",
   "execution_count": 20,
   "metadata": {},
   "outputs": [
    {
     "name": "stdout",
     "output_type": "stream",
     "text": [
      "Tuned Decision Tree Parameters: {'criterion': 'gini', 'max_depth': 6, 'max_features': 16, 'min_samples_split': 15}\n"
     ]
    }
   ],
   "source": [
    "print(\"Tuned Decision Tree Parameters: {}\".format(tree_grid_cv.best_params_))"
   ]
  },
  {
   "cell_type": "markdown",
   "metadata": {},
   "source": [
    "train model"
   ]
  },
  {
   "cell_type": "code",
   "execution_count": 21,
   "metadata": {
    "collapsed": true
   },
   "outputs": [],
   "source": [
    "tree_grid = DecisionTreeClassifier(criterion=\"gini\", max_depth=6, max_features=16, min_samples_split=15)\n",
    "tree_grid = tree_grid.fit(X_train, y_train)"
   ]
  },
  {
   "cell_type": "markdown",
   "metadata": {},
   "source": [
    "tree visualization"
   ]
  },
  {
   "cell_type": "code",
   "execution_count": 22,
   "metadata": {
    "collapsed": true
   },
   "outputs": [],
   "source": [
    "from sklearn.externals.six import StringIO  \n",
    "from IPython.display import Image  \n",
    "from sklearn.tree import export_graphviz\n",
    "import pydotplus"
   ]
  },
  {
   "cell_type": "code",
   "execution_count": 23,
   "metadata": {},
   "outputs": [
    {
     "data": {
      "text/plain": [
       "True"
      ]
     },
     "execution_count": 23,
     "metadata": {},
     "output_type": "execute_result"
    }
   ],
   "source": [
    "dot_data = StringIO()\n",
    "export_graphviz(tree_grid, out_file=dot_data, filled=True, rounded=True, special_characters=True)\n",
    "graph = pydotplus.graph_from_dot_data(dot_data.getvalue())  \n",
    "Image(graph.create_png())\n",
    "\n",
    "graph.write_pdf(\"decision_tree.pdf\")"
   ]
  },
  {
   "cell_type": "markdown",
   "metadata": {},
   "source": [
    "predictions"
   ]
  },
  {
   "cell_type": "code",
   "execution_count": 24,
   "metadata": {
    "collapsed": true
   },
   "outputs": [],
   "source": [
    "from sklearn.metrics import roc_curve, roc_auc_score, log_loss\n",
    "from matplotlib import pyplot as plt\n",
    "from sklearn.metrics import log_loss"
   ]
  },
  {
   "cell_type": "code",
   "execution_count": 25,
   "metadata": {},
   "outputs": [
    {
     "name": "stdout",
     "output_type": "stream",
     "text": [
      "ROC Score: 0.8372051197118221\n",
      "Log Loss: 0.5547179035932377\n"
     ]
    }
   ],
   "source": [
    "predictions_tree = tree_grid.predict_proba(X_test)\n",
    "roc_score_tree = roc_auc_score(y_test, predictions_tree[:,1])\n",
    "log_loss_tree = log_loss(y_test, predictions_tree[:,1], eps=1e-15)\n",
    "print(\"ROC Score: {}\".format(roc_score_tree))\n",
    "print(\"Log Loss: {}\".format(log_loss_tree))"
   ]
  },
  {
   "cell_type": "markdown",
   "metadata": {},
   "source": [
    "ROC curve"
   ]
  },
  {
   "cell_type": "code",
   "execution_count": 26,
   "metadata": {},
   "outputs": [
    {
     "data": {
      "image/png": "[encoded data removed]",
      "text/plain": [
       "<matplotlib.figure.Figure at 0x19112db1f98>"
      ]
     },
     "metadata": {},
     "output_type": "display_data"
    }
   ],
   "source": [
    "fpr_tree, tpr_tree, _ = roc_curve(y_test, predictions_tree[:,1])\n",
    "plt.plot(fpr_tree, tpr_tree, label='Decision Tree (AUC = %0.4f)' % roc_score_tree)\n",
    "plt.legend(loc=\"lower right\")\n",
    "plt.xlabel('FPR')\n",
    "plt.ylabel('TPR')\n",
    "plt.title('ROC curve (Decision Tree)')\n",
    "plt.show()"
   ]
  },
  {
   "cell_type": "markdown",
   "metadata": {},
   "source": [
    "__Model 2: Naive Bayes__"
   ]
  },
  {
   "cell_type": "code",
   "execution_count": 27,
   "metadata": {
    "collapsed": true
   },
   "outputs": [],
   "source": [
    "from sklearn.naive_bayes import GaussianNB"
   ]
  },
  {
   "cell_type": "markdown",
   "metadata": {},
   "source": [
    "train model"
   ]
  },
  {
   "cell_type": "code",
   "execution_count": 28,
   "metadata": {},
   "outputs": [
    {
     "data": {
      "text/plain": [
       "GaussianNB(priors=None)"
      ]
     },
     "execution_count": 28,
     "metadata": {},
     "output_type": "execute_result"
    }
   ],
   "source": [
    "NB = GaussianNB()\n",
    "NB.fit(X_train, y_train)"
   ]
  },
  {
   "cell_type": "markdown",
   "metadata": {},
   "source": [
    "predictions"
   ]
  },
  {
   "cell_type": "code",
   "execution_count": 29,
   "metadata": {},
   "outputs": [
    {
     "name": "stdout",
     "output_type": "stream",
     "text": [
      "ROC Score: 0.844456147070088\n",
      "Log Loss: 0.9149028834669852\n"
     ]
    }
   ],
   "source": [
    "predictions_NB = NB.predict_proba(X_test)\n",
    "roc_score_NB = roc_auc_score(y_test, predictions_NB[:,1])\n",
    "log_loss_NB = log_loss(y_test, predictions_NB[:,1], eps=1e-15)\n",
    "print(\"ROC Score: {}\".format(roc_score_NB))\n",
    "print(\"Log Loss: {}\".format(log_loss_NB))"
   ]
  },
  {
   "cell_type": "markdown",
   "metadata": {},
   "source": [
    "ROC curve"
   ]
  },
  {
   "cell_type": "code",
   "execution_count": 30,
   "metadata": {},
   "outputs": [
    {
     "data": {
      "image/png": "[encoded data removed]",
      "text/plain": [
       "<matplotlib.figure.Figure at 0x19112c35d68>"
      ]
     },
     "metadata": {},
     "output_type": "display_data"
    }
   ],
   "source": [
    "fpr_NB, tpr_NB, _ = roc_curve(y_test, predictions_NB[:,1])\n",
    "plt.plot(fpr_NB, tpr_NB, label='Naive Bayes (AUC = %0.4f)' % roc_score_NB)\n",
    "plt.legend(loc=\"lower right\")\n",
    "plt.xlabel('FPR')\n",
    "plt.ylabel('TPR')\n",
    "plt.title('ROC curve (Naive Bayes)')\n",
    "plt.show()"
   ]
  },
  {
   "cell_type": "markdown",
   "metadata": {},
   "source": [
    "__Model 3: SVM__"
   ]
  },
  {
   "cell_type": "code",
   "execution_count": 31,
   "metadata": {
    "collapsed": true
   },
   "outputs": [],
   "source": [
    "from sklearn import svm"
   ]
  },
  {
   "cell_type": "markdown",
   "metadata": {},
   "source": [
    "parameter grid"
   ]
  },
  {
   "cell_type": "code",
   "execution_count": 32,
   "metadata": {
    "collapsed": true
   },
   "outputs": [],
   "source": [
    "SVM_param_dist = {\"C\": [0.001, 0.01, 0.1, 1, 10], \n",
    "              \"gamma\": [0.001, 0.01, 0.1, 1], \n",
    "              \"kernel\": [\"linear\", \"poly\", \"rbf\", \"sigmoid\"],\n",
    "              \"degree\": [2, 3, 4, 5]}"
   ]
  },
  {
   "cell_type": "markdown",
   "metadata": {},
   "source": [
    "grid search"
   ]
  },
  {
   "cell_type": "code",
   "execution_count": 33,
   "metadata": {},
   "outputs": [
    {
     "name": "stdout",
     "output_type": "stream",
     "text": [
      "Wall time: 2h 13min 36s\n"
     ]
    }
   ],
   "source": [
    "%%time\n",
    "SVM = svm.SVC()\n",
    "SVM_grid_cv = GridSearchCV(SVM, SVM_param_dist, cv=10)\n",
    "SVM_grid_cv.fit(X_train,y_train);"
   ]
  },
  {
   "cell_type": "markdown",
   "metadata": {},
   "source": [
    "optimal parameters"
   ]
  },
  {
   "cell_type": "code",
   "execution_count": 34,
   "metadata": {},
   "outputs": [
    {
     "name": "stdout",
     "output_type": "stream",
     "text": [
      "Tuned SVM Parameters: {'C': 0.01, 'degree': 2, 'gamma': 0.001, 'kernel': 'linear'}\n"
     ]
    }
   ],
   "source": [
    "print(\"Tuned SVM Parameters: {}\".format(SVM_grid_cv.best_params_))"
   ]
  },
  {
   "cell_type": "markdown",
   "metadata": {},
   "source": [
    "train model"
   ]
  },
  {
   "cell_type": "code",
   "execution_count": 35,
   "metadata": {
    "collapsed": true
   },
   "outputs": [],
   "source": [
    "SVM_grid = svm.SVC(C=0.01, degree=2, gamma=0.001, kernel=\"linear\", probability=True)\n",
    "SVM_grid = SVM_grid.fit(X_train, y_train)"
   ]
  },
  {
   "cell_type": "markdown",
   "metadata": {},
   "source": [
    "predictions"
   ]
  },
  {
   "cell_type": "code",
   "execution_count": 36,
   "metadata": {},
   "outputs": [
    {
     "name": "stdout",
     "output_type": "stream",
     "text": [
      "ROC Score: 0.8532805593797551\n",
      "Log Loss: 0.4083604982207678\n"
     ]
    }
   ],
   "source": [
    "predictions_SVM = SVM_grid.predict_proba(X_test)\n",
    "roc_score_SVM = roc_auc_score(y_test, predictions_SVM[:,1])\n",
    "log_loss_SVM = log_loss(y_test, predictions_SVM[:,1], eps=1e-15)\n",
    "print(\"ROC Score: {}\".format(roc_score_SVM))\n",
    "print(\"Log Loss: {}\".format(log_loss_SVM))"
   ]
  },
  {
   "cell_type": "markdown",
   "metadata": {},
   "source": [
    "ROC curve"
   ]
  },
  {
   "cell_type": "code",
   "execution_count": 37,
   "metadata": {},
   "outputs": [
    {
     "data": {
      "image/png": "[encoded data removed]",
      "text/plain": [
       "<matplotlib.figure.Figure at 0x19117b3af60>"
      ]
     },
     "metadata": {},
     "output_type": "display_data"
    }
   ],
   "source": [
    "fpr_SVM, tpr_SVM, _ = roc_curve(y_test, predictions_SVM[:,1])\n",
    "plt.plot(fpr_SVM, tpr_SVM, label='SVM (AUC = %0.4f)' % roc_score_SVM)\n",
    "plt.legend(loc=\"lower right\")\n",
    "plt.xlabel('FPR')\n",
    "plt.ylabel('TPR')\n",
    "plt.title('ROC curve (SVM)')\n",
    "plt.show()"
   ]
  },
  {
   "cell_type": "markdown",
   "metadata": {},
   "source": [
    "__Model 4: K-Nearest Neighbors__"
   ]
  },
  {
   "cell_type": "code",
   "execution_count": 38,
   "metadata": {
    "collapsed": true
   },
   "outputs": [],
   "source": [
    "from sklearn.neighbors import KNeighborsClassifier"
   ]
  },
  {
   "cell_type": "markdown",
   "metadata": {},
   "source": [
    "parameter grid"
   ]
  },
  {
   "cell_type": "code",
   "execution_count": 39,
   "metadata": {
    "collapsed": true
   },
   "outputs": [],
   "source": [
    "KNN_param_dist = {\"n_neighbors\": [1, 2, 3, 4, 5, 6, 7, 8, 9, 10], \n",
    "              \"weights\": [\"uniform\", \"distance\"], \n",
    "              \"algorithm\": [\"auto\", \"ball_tree\", \"kd_tree\", \"brute\"]}"
   ]
  },
  {
   "cell_type": "markdown",
   "metadata": {},
   "source": [
    "grid search"
   ]
  },
  {
   "cell_type": "code",
   "execution_count": 40,
   "metadata": {},
   "outputs": [
    {
     "name": "stdout",
     "output_type": "stream",
     "text": [
      "Wall time: 16min 19s\n"
     ]
    }
   ],
   "source": [
    "%%time\n",
    "KNN = KNeighborsClassifier()\n",
    "KNN_grid_cv = GridSearchCV(KNN, KNN_param_dist, cv=10)\n",
    "KNN_grid_cv.fit(X_train,y_train);"
   ]
  },
  {
   "cell_type": "markdown",
   "metadata": {},
   "source": [
    "optimal parameters"
   ]
  },
  {
   "cell_type": "code",
   "execution_count": 41,
   "metadata": {},
   "outputs": [
    {
     "name": "stdout",
     "output_type": "stream",
     "text": [
      "Tuned K-Nearest Neighbors Parameters: {'algorithm': 'auto', 'n_neighbors': 8, 'weights': 'uniform'}\n"
     ]
    }
   ],
   "source": [
    "print(\"Tuned K-Nearest Neighbors Parameters: {}\".format(KNN_grid_cv.best_params_))"
   ]
  },
  {
   "cell_type": "markdown",
   "metadata": {},
   "source": [
    "train model"
   ]
  },
  {
   "cell_type": "code",
   "execution_count": 42,
   "metadata": {},
   "outputs": [
    {
     "data": {
      "text/plain": [
       "KNeighborsClassifier(algorithm='auto', leaf_size=30, metric='minkowski',\n",
       "           metric_params=None, n_jobs=1, n_neighbors=8, p=2,\n",
       "           weights='uniform')"
      ]
     },
     "execution_count": 42,
     "metadata": {},
     "output_type": "execute_result"
    }
   ],
   "source": [
    "KNN_grid = KNeighborsClassifier(algorithm=\"auto\", n_neighbors=8, weights=\"uniform\")\n",
    "KNN_grid.fit(X_train, y_train)"
   ]
  },
  {
   "cell_type": "markdown",
   "metadata": {},
   "source": [
    "predictions"
   ]
  },
  {
   "cell_type": "code",
   "execution_count": 43,
   "metadata": {},
   "outputs": [
    {
     "name": "stdout",
     "output_type": "stream",
     "text": [
      "ROC Score: 0.8234302379744738\n",
      "Log Loss: 0.8082345273884409\n"
     ]
    }
   ],
   "source": [
    "predictions_KNN = KNN_grid.predict_proba(X_test)\n",
    "roc_score_KNN = roc_auc_score(y_test, predictions_KNN[:,1])\n",
    "log_loss_KNN = log_loss(y_test, predictions_KNN[:,1], eps=1e-15)\n",
    "print(\"ROC Score: {}\".format(roc_score_KNN))\n",
    "print(\"Log Loss: {}\".format(log_loss_KNN))"
   ]
  },
  {
   "cell_type": "markdown",
   "metadata": {},
   "source": [
    "ROC curve"
   ]
  },
  {
   "cell_type": "code",
   "execution_count": 44,
   "metadata": {},
   "outputs": [
    {
     "data": {
      "image/png": "[encoded data removed]",
      "text/plain": [
       "<matplotlib.figure.Figure at 0x19112f8e0f0>"
      ]
     },
     "metadata": {},
     "output_type": "display_data"
    }
   ],
   "source": [
    "fpr_KNN, tpr_KNN, _ = roc_curve(y_test, predictions_KNN[:,1])\n",
    "plt.plot(fpr_KNN, tpr_KNN, label='K-Nearest Neighbors (AUC = %0.4f)' % roc_score_KNN)\n",
    "plt.legend(loc=\"lower right\")\n",
    "plt.xlabel('FPR')\n",
    "plt.ylabel('TPR')\n",
    "plt.title('ROC curve (K-Nearest Neighbors)')\n",
    "plt.show()"
   ]
  },
  {
   "cell_type": "markdown",
   "metadata": {},
   "source": [
    "__Model 5: Random Forest__"
   ]
  },
  {
   "cell_type": "code",
   "execution_count": 45,
   "metadata": {
    "collapsed": true
   },
   "outputs": [],
   "source": [
    "from sklearn.ensemble import RandomForestClassifier"
   ]
  },
  {
   "cell_type": "markdown",
   "metadata": {},
   "source": [
    "parameter grid"
   ]
  },
  {
   "cell_type": "code",
   "execution_count": 46,
   "metadata": {
    "collapsed": true
   },
   "outputs": [],
   "source": [
    "RF_param_dist = {\"n_estimators\": [5, 10, 20, 50, 100, 200], \n",
    "              \"criterion\": [\"gini\", \"entropy\"], \n",
    "              \"max_depth\": [2, 3, 4, 5, 6, 7, 8, 9, 10, 11, 12, 13, 14, 15, 16, 17, 18, 19, 20, None]}"
   ]
  },
  {
   "cell_type": "markdown",
   "metadata": {},
   "source": [
    "grid search"
   ]
  },
  {
   "cell_type": "code",
   "execution_count": 47,
   "metadata": {},
   "outputs": [
    {
     "name": "stdout",
     "output_type": "stream",
     "text": [
      "Wall time: 13min 28s\n"
     ]
    }
   ],
   "source": [
    "%%time\n",
    "RF = RandomForestClassifier()\n",
    "RF_grid_cv = GridSearchCV(RF, RF_param_dist, cv=10)\n",
    "RF_grid_cv.fit(X_train,y_train);"
   ]
  },
  {
   "cell_type": "markdown",
   "metadata": {},
   "source": [
    "optimal parameters"
   ]
  },
  {
   "cell_type": "code",
   "execution_count": 48,
   "metadata": {},
   "outputs": [
    {
     "name": "stdout",
     "output_type": "stream",
     "text": [
      "Tuned Random Forest Parameters: {'criterion': 'gini', 'max_depth': 9, 'n_estimators': 200}\n"
     ]
    }
   ],
   "source": [
    "print(\"Tuned Random Forest Parameters: {}\".format(RF_grid_cv.best_params_))"
   ]
  },
  {
   "cell_type": "markdown",
   "metadata": {},
   "source": [
    "train model"
   ]
  },
  {
   "cell_type": "code",
   "execution_count": 49,
   "metadata": {},
   "outputs": [
    {
     "data": {
      "text/plain": [
       "RandomForestClassifier(bootstrap=True, class_weight=None, criterion='gini',\n",
       "            max_depth=9, max_features='auto', max_leaf_nodes=None,\n",
       "            min_impurity_split=1e-07, min_samples_leaf=1,\n",
       "            min_samples_split=2, min_weight_fraction_leaf=0.0,\n",
       "            n_estimators=200, n_jobs=1, oob_score=False, random_state=None,\n",
       "            verbose=0, warm_start=False)"
      ]
     },
     "execution_count": 49,
     "metadata": {},
     "output_type": "execute_result"
    }
   ],
   "source": [
    "RF_grid = RandomForestClassifier(criterion=\"gini\", max_depth=9, n_estimators=200)\n",
    "RF_grid.fit(X_train, y_train)"
   ]
  },
  {
   "cell_type": "markdown",
   "metadata": {},
   "source": [
    "predictions"
   ]
  },
  {
   "cell_type": "code",
   "execution_count": 50,
   "metadata": {},
   "outputs": [
    {
     "name": "stdout",
     "output_type": "stream",
     "text": [
      "ROC Score: 0.8632526628505182\n",
      "Log Loss: 0.3993460827772721\n"
     ]
    }
   ],
   "source": [
    "predictions_RF = RF_grid.predict_proba(X_test)\n",
    "roc_score_RF = roc_auc_score(y_test, predictions_RF[:,1])\n",
    "log_loss_RF = log_loss(y_test, predictions_RF[:,1], eps=1e-15)\n",
    "print(\"ROC Score: {}\".format(roc_score_RF))\n",
    "print(\"Log Loss: {}\".format(log_loss_RF))"
   ]
  },
  {
   "cell_type": "markdown",
   "metadata": {},
   "source": [
    "ROC curve"
   ]
  },
  {
   "cell_type": "code",
   "execution_count": 51,
   "metadata": {},
   "outputs": [
    {
     "data": {
      "image/png": "[encoded data removed]",
      "text/plain": [
       "<matplotlib.figure.Figure at 0x19112e8b898>"
      ]
     },
     "metadata": {},
     "output_type": "display_data"
    }
   ],
   "source": [
    "fpr_RF, tpr_RF, _ = roc_curve(y_test, predictions_RF[:,1])\n",
    "plt.plot(fpr_RF, tpr_RF, label='Random Forest (AUC = %0.4f)' % roc_score_RF)\n",
    "plt.legend(loc=\"lower right\")\n",
    "plt.xlabel('FPR')\n",
    "plt.ylabel('TPR')\n",
    "plt.title('ROC curve (Random Forest)')\n",
    "plt.show()"
   ]
  },
  {
   "cell_type": "markdown",
   "metadata": {},
   "source": [
    "__Model 6: XGBoost__"
   ]
  },
  {
   "cell_type": "code",
   "execution_count": 52,
   "metadata": {
    "collapsed": true
   },
   "outputs": [],
   "source": [
    "import xgboost as xgb\n",
    "from sklearn.metrics import mean_squared_error"
   ]
  },
  {
   "cell_type": "markdown",
   "metadata": {},
   "source": [
    "parameter grid"
   ]
  },
  {
   "cell_type": "code",
   "execution_count": 53,
   "metadata": {
    "collapsed": true
   },
   "outputs": [],
   "source": [
    "XGB_param_dist = {\"n_estimators\": [5, 10, 20, 50, 100, 200], \n",
    "                 \"learning_rate\": [0.01, 0.1, 0.3, 0.5, 0.7, 0.9, 1],\n",
    "                 \"subsample\": [0.01, 0.1, 0.3, 0.5, 0.7, 0.9, 1],\n",
    "                 \"objective\": [\"reg:linear\", \"reg:logistic\", \"binary:logistic\", \"binary:logitraw\"]}"
   ]
  },
  {
   "cell_type": "markdown",
   "metadata": {},
   "source": [
    "grid search"
   ]
  },
  {
   "cell_type": "code",
   "execution_count": 54,
   "metadata": {},
   "outputs": [
    {
     "name": "stdout",
     "output_type": "stream",
     "text": [
      "Wall time: 1h 13min 33s\n"
     ]
    }
   ],
   "source": [
    "%%time\n",
    "XGB = xgb.XGBRegressor()\n",
    "XGB_grid_cv = GridSearchCV(XGB, XGB_param_dist, cv=10)\n",
    "XGB_grid_cv.fit(X_train,y_train);"
   ]
  },
  {
   "cell_type": "markdown",
   "metadata": {},
   "source": [
    "optimal parameters"
   ]
  },
  {
   "cell_type": "code",
   "execution_count": 55,
   "metadata": {},
   "outputs": [
    {
     "name": "stdout",
     "output_type": "stream",
     "text": [
      "Tuned XGBoost Parameters: {'learning_rate': 0.3, 'n_estimators': 20, 'objective': 'reg:logistic', 'subsample': 1}\n"
     ]
    }
   ],
   "source": [
    "print(\"Tuned XGBoost Parameters: {}\".format(XGB_grid_cv.best_params_))"
   ]
  },
  {
   "cell_type": "markdown",
   "metadata": {},
   "source": [
    "train model"
   ]
  },
  {
   "cell_type": "code",
   "execution_count": 56,
   "metadata": {},
   "outputs": [
    {
     "data": {
      "text/plain": [
       "XGBRegressor(base_score=0.5, booster='gbtree', colsample_bylevel=1,\n",
       "       colsample_bytree=1, gamma=0, learning_rate=0.3, max_delta_step=0,\n",
       "       max_depth=3, min_child_weight=1, missing=None, n_estimators=20,\n",
       "       n_jobs=1, nthread=None, objective='reg:logistic', random_state=0,\n",
       "       reg_alpha=0, reg_lambda=1, scale_pos_weight=1, seed=None,\n",
       "       silent=True, subsample=1)"
      ]
     },
     "execution_count": 56,
     "metadata": {},
     "output_type": "execute_result"
    }
   ],
   "source": [
    "XGB_grid = xgb.XGBRegressor(objective=\"reg:logistic\", n_estimators=20 , learning_rate=0.3, subsample=1)\n",
    "XGB_grid.fit(X_train, y_train)"
   ]
  },
  {
   "cell_type": "markdown",
   "metadata": {},
   "source": [
    "predictions"
   ]
  },
  {
   "cell_type": "code",
   "execution_count": 57,
   "metadata": {},
   "outputs": [
    {
     "name": "stdout",
     "output_type": "stream",
     "text": [
      "ROC Score: 0.8627480410322232\n",
      "Log Loss: 0.39749475025999537\n"
     ]
    }
   ],
   "source": [
    "predictions_XGB = XGB_grid.predict(X_test)\n",
    "roc_score_XGB = roc_auc_score(y_test, predictions_XGB)\n",
    "log_loss_XGB = log_loss(y_test, predictions_XGB, eps=1e-15)\n",
    "print(\"ROC Score: {}\".format(roc_score_XGB))\n",
    "print(\"Log Loss: {}\".format(log_loss_XGB))"
   ]
  },
  {
   "cell_type": "markdown",
   "metadata": {},
   "source": [
    "ROC curve"
   ]
  },
  {
   "cell_type": "code",
   "execution_count": 58,
   "metadata": {},
   "outputs": [
    {
     "data": {
      "image/png": "[encoded data removed]",
      "text/plain": [
       "<matplotlib.figure.Figure at 0x1911625c208>"
      ]
     },
     "metadata": {},
     "output_type": "display_data"
    }
   ],
   "source": [
    "fpr_XGB, tpr_XGB, _ = roc_curve(y_test, predictions_XGB)\n",
    "plt.plot(fpr_XGB, tpr_XGB, label='XGBoost (AUC = %0.4f)' % roc_score_XGB)\n",
    "plt.legend(loc=\"lower right\")\n",
    "plt.xlabel('FPR')\n",
    "plt.ylabel('TPR')\n",
    "plt.title('ROC curve (XGBoost)')\n",
    "plt.show()"
   ]
  },
  {
   "cell_type": "markdown",
   "metadata": {},
   "source": [
    "__Combined__"
   ]
  },
  {
   "cell_type": "code",
   "execution_count": 59,
   "metadata": {},
   "outputs": [
    {
     "data": {
      "image/png": "[encoded data removed]",
      "text/plain": [
       "<matplotlib.figure.Figure at 0x191152bd6d8>"
      ]
     },
     "metadata": {},
     "output_type": "display_data"
    }
   ],
   "source": [
    "f = plt.figure()\n",
    "plt.plot(fpr_tree, tpr_tree, color='red', label='Decision Tree (AUC = %0.4f, Log-Loss = %0.4f)' % (roc_score_tree, log_loss_tree))\n",
    "plt.plot(fpr_NB, tpr_NB, color='blue', label='Naive Bayes (AUC = %0.4f, Log-Loss = %0.4f)' % (roc_score_NB, log_loss_NB))\n",
    "plt.plot(fpr_SVM, tpr_SVM, color='green', label='SVM (AUC = %0.4f, Log-Loss = %0.4f)' % (roc_score_SVM, log_loss_SVM))\n",
    "plt.plot(fpr_KNN, tpr_KNN, color='purple', label='K-Nearest Neighbors (AUC = %0.4f, Log-Loss = %0.4f)' % (roc_score_KNN, log_loss_KNN))\n",
    "plt.plot(fpr_RF, tpr_RF, color='orange', label='Random Forest (AUC = %0.4f, Log-Loss = %0.4f)' % (roc_score_RF, log_loss_RF))\n",
    "plt.plot(fpr_XGB, tpr_XGB, color='aqua', label='XGBoost (AUC = %0.4f, Log-Loss = %0.4f)' % (roc_score_XGB, log_loss_XGB))\n",
    "plt.legend(loc=\"lower right\")\n",
    "plt.xlabel('FPR')\n",
    "plt.ylabel('TPR')\n",
    "plt.title('ROC curves')\n",
    "plt.show()\n",
    "\n",
    "f.savefig(\"ROC_curves.pdf\", bbox_inches='tight')"
   ]
  },
  {
   "cell_type": "code",
   "execution_count": null,
   "metadata": {
    "collapsed": true
   },
   "outputs": [],
   "source": []
  }
 ],
 "metadata": {
  "kernelspec": {
   "display_name": "Python 3",
   "language": "python",
   "name": "python3"
  },
  "language_info": {
   "codemirror_mode": {
    "name": "ipython",
    "version": 3
   },
   "file_extension": ".py",
   "mimetype": "text/x-python",
   "name": "python",
   "nbconvert_exporter": "python",
   "pygments_lexer": "ipython3",
   "version": "3.6.1"
  }
 },
 "nbformat": 4,
 "nbformat_minor": 2
}
